{
 "cells": [
  {
   "cell_type": "code",
   "execution_count": 1,
   "metadata": {},
   "outputs": [
    {
     "name": "stdout",
     "output_type": "stream",
     "text": [
      "Requirement already satisfied: geopandas in c:\\users\\admin\\appdata\\local\\programs\\python\\python311\\lib\\site-packages (0.12.2)\n",
      "Requirement already satisfied: pandas>=1.0.0 in c:\\users\\admin\\appdata\\local\\programs\\python\\python311\\lib\\site-packages (from geopandas) (2.0.1)\n",
      "Requirement already satisfied: shapely>=1.7 in c:\\users\\admin\\appdata\\local\\programs\\python\\python311\\lib\\site-packages (from geopandas) (2.0.1)\n",
      "Requirement already satisfied: fiona>=1.8 in c:\\users\\admin\\appdata\\local\\programs\\python\\python311\\lib\\site-packages (from geopandas) (1.9.3)\n",
      "Requirement already satisfied: pyproj>=2.6.1.post1 in c:\\users\\admin\\appdata\\local\\programs\\python\\python311\\lib\\site-packages (from geopandas) (3.5.0)\n",
      "Requirement already satisfied: packaging in c:\\users\\admin\\appdata\\local\\programs\\python\\python311\\lib\\site-packages (from geopandas) (22.0)\n",
      "Requirement already satisfied: attrs>=19.2.0 in c:\\users\\admin\\appdata\\local\\programs\\python\\python311\\lib\\site-packages (from fiona>=1.8->geopandas) (23.1.0)\n",
      "Requirement already satisfied: certifi in c:\\users\\admin\\appdata\\local\\programs\\python\\python311\\lib\\site-packages (from fiona>=1.8->geopandas) (2022.12.7)\n",
      "Requirement already satisfied: click~=8.0 in c:\\users\\admin\\appdata\\local\\programs\\python\\python311\\lib\\site-packages (from fiona>=1.8->geopandas) (8.1.3)\n",
      "Requirement already satisfied: click-plugins>=1.0 in c:\\users\\admin\\appdata\\local\\programs\\python\\python311\\lib\\site-packages (from fiona>=1.8->geopandas) (1.1.1)\n",
      "Requirement already satisfied: cligj>=0.5 in c:\\users\\admin\\appdata\\local\\programs\\python\\python311\\lib\\site-packages (from fiona>=1.8->geopandas) (0.7.2)\n",
      "Requirement already satisfied: munch>=2.3.2 in c:\\users\\admin\\appdata\\local\\programs\\python\\python311\\lib\\site-packages (from fiona>=1.8->geopandas) (2.5.0)\n",
      "Requirement already satisfied: python-dateutil>=2.8.2 in c:\\users\\admin\\appdata\\roaming\\python\\python311\\site-packages (from pandas>=1.0.0->geopandas) (2.8.2)\n",
      "Requirement already satisfied: pytz>=2020.1 in c:\\users\\admin\\appdata\\local\\programs\\python\\python311\\lib\\site-packages (from pandas>=1.0.0->geopandas) (2022.7)\n",
      "Requirement already satisfied: tzdata>=2022.1 in c:\\users\\admin\\appdata\\local\\programs\\python\\python311\\lib\\site-packages (from pandas>=1.0.0->geopandas) (2023.3)\n",
      "Requirement already satisfied: numpy>=1.21.0 in c:\\users\\admin\\appdata\\local\\programs\\python\\python311\\lib\\site-packages (from pandas>=1.0.0->geopandas) (1.24.3)\n",
      "Requirement already satisfied: colorama in c:\\users\\admin\\appdata\\local\\programs\\python\\python311\\lib\\site-packages (from click~=8.0->fiona>=1.8->geopandas) (0.4.6)\n",
      "Requirement already satisfied: six in c:\\users\\admin\\appdata\\roaming\\python\\python311\\site-packages (from munch>=2.3.2->fiona>=1.8->geopandas) (1.16.0)\n",
      "Note: you may need to restart the kernel to use updated packages.\n"
     ]
    },
    {
     "name": "stderr",
     "output_type": "stream",
     "text": [
      "\n",
      "[notice] A new release of pip available: 22.3.1 -> 23.1.2\n",
      "[notice] To update, run: python.exe -m pip install --upgrade pip\n"
     ]
    }
   ],
   "source": [
    "pip install geopandas"
   ]
  },
  {
   "cell_type": "code",
   "execution_count": 2,
   "metadata": {},
   "outputs": [
    {
     "name": "stdout",
     "output_type": "stream",
     "text": [
      "Requirement already satisfied: contextily in c:\\users\\admin\\appdata\\local\\programs\\python\\python311\\lib\\site-packages (1.3.0)Note: you may need to restart the kernel to use updated packages.\n"
     ]
    },
    {
     "name": "stderr",
     "output_type": "stream",
     "text": [
      "\n",
      "[notice] A new release of pip available: 22.3.1 -> 23.1.2\n",
      "[notice] To update, run: python.exe -m pip install --upgrade pip\n"
     ]
    },
    {
     "name": "stdout",
     "output_type": "stream",
     "text": [
      "\n",
      "Requirement already satisfied: geopy in c:\\users\\admin\\appdata\\local\\programs\\python\\python311\\lib\\site-packages (from contextily) (2.3.0)\n",
      "Requirement already satisfied: matplotlib in c:\\users\\admin\\appdata\\local\\programs\\python\\python311\\lib\\site-packages (from contextily) (3.7.1)\n",
      "Requirement already satisfied: mercantile in c:\\users\\admin\\appdata\\local\\programs\\python\\python311\\lib\\site-packages (from contextily) (1.2.1)\n",
      "Requirement already satisfied: pillow in c:\\users\\admin\\appdata\\local\\programs\\python\\python311\\lib\\site-packages (from contextily) (9.5.0)\n",
      "Requirement already satisfied: rasterio in c:\\users\\admin\\appdata\\local\\programs\\python\\python311\\lib\\site-packages (from contextily) (1.3.6)\n",
      "Requirement already satisfied: requests in c:\\users\\admin\\appdata\\local\\programs\\python\\python311\\lib\\site-packages (from contextily) (2.28.1)\n",
      "Requirement already satisfied: joblib in c:\\users\\admin\\appdata\\local\\programs\\python\\python311\\lib\\site-packages (from contextily) (1.2.0)\n",
      "Requirement already satisfied: xyzservices in c:\\users\\admin\\appdata\\local\\programs\\python\\python311\\lib\\site-packages (from contextily) (2023.2.0)\n",
      "Requirement already satisfied: geographiclib<3,>=1.52 in c:\\users\\admin\\appdata\\local\\programs\\python\\python311\\lib\\site-packages (from geopy->contextily) (2.0)\n",
      "Requirement already satisfied: contourpy>=1.0.1 in c:\\users\\admin\\appdata\\local\\programs\\python\\python311\\lib\\site-packages (from matplotlib->contextily) (1.0.7)\n",
      "Requirement already satisfied: cycler>=0.10 in c:\\users\\admin\\appdata\\local\\programs\\python\\python311\\lib\\site-packages (from matplotlib->contextily) (0.11.0)\n",
      "Requirement already satisfied: fonttools>=4.22.0 in c:\\users\\admin\\appdata\\local\\programs\\python\\python311\\lib\\site-packages (from matplotlib->contextily) (4.39.3)\n",
      "Requirement already satisfied: kiwisolver>=1.0.1 in c:\\users\\admin\\appdata\\local\\programs\\python\\python311\\lib\\site-packages (from matplotlib->contextily) (1.4.4)\n",
      "Requirement already satisfied: numpy>=1.20 in c:\\users\\admin\\appdata\\local\\programs\\python\\python311\\lib\\site-packages (from matplotlib->contextily) (1.24.3)\n",
      "Requirement already satisfied: packaging>=20.0 in c:\\users\\admin\\appdata\\local\\programs\\python\\python311\\lib\\site-packages (from matplotlib->contextily) (22.0)\n",
      "Requirement already satisfied: pyparsing>=2.3.1 in c:\\users\\admin\\appdata\\local\\programs\\python\\python311\\lib\\site-packages (from matplotlib->contextily) (3.0.9)\n",
      "Requirement already satisfied: python-dateutil>=2.7 in c:\\users\\admin\\appdata\\roaming\\python\\python311\\site-packages (from matplotlib->contextily) (2.8.2)\n",
      "Requirement already satisfied: click>=3.0 in c:\\users\\admin\\appdata\\local\\programs\\python\\python311\\lib\\site-packages (from mercantile->contextily) (8.1.3)\n",
      "Requirement already satisfied: affine in c:\\users\\admin\\appdata\\local\\programs\\python\\python311\\lib\\site-packages (from rasterio->contextily) (2.4.0)\n",
      "Requirement already satisfied: attrs in c:\\users\\admin\\appdata\\local\\programs\\python\\python311\\lib\\site-packages (from rasterio->contextily) (23.1.0)\n",
      "Requirement already satisfied: certifi in c:\\users\\admin\\appdata\\local\\programs\\python\\python311\\lib\\site-packages (from rasterio->contextily) (2022.12.7)\n",
      "Requirement already satisfied: cligj>=0.5 in c:\\users\\admin\\appdata\\local\\programs\\python\\python311\\lib\\site-packages (from rasterio->contextily) (0.7.2)\n",
      "Requirement already satisfied: snuggs>=1.4.1 in c:\\users\\admin\\appdata\\local\\programs\\python\\python311\\lib\\site-packages (from rasterio->contextily) (1.4.7)\n",
      "Requirement already satisfied: click-plugins in c:\\users\\admin\\appdata\\local\\programs\\python\\python311\\lib\\site-packages (from rasterio->contextily) (1.1.1)\n",
      "Requirement already satisfied: setuptools in c:\\users\\admin\\appdata\\local\\programs\\python\\python311\\lib\\site-packages (from rasterio->contextily) (65.5.0)\n",
      "Requirement already satisfied: charset-normalizer<3,>=2 in c:\\users\\admin\\appdata\\local\\programs\\python\\python311\\lib\\site-packages (from requests->contextily) (2.1.1)\n",
      "Requirement already satisfied: idna<4,>=2.5 in c:\\users\\admin\\appdata\\local\\programs\\python\\python311\\lib\\site-packages (from requests->contextily) (3.4)\n",
      "Requirement already satisfied: urllib3<1.27,>=1.21.1 in c:\\users\\admin\\appdata\\local\\programs\\python\\python311\\lib\\site-packages (from requests->contextily) (1.26.13)\n",
      "Requirement already satisfied: colorama in c:\\users\\admin\\appdata\\local\\programs\\python\\python311\\lib\\site-packages (from click>=3.0->mercantile->contextily) (0.4.6)\n",
      "Requirement already satisfied: six>=1.5 in c:\\users\\admin\\appdata\\roaming\\python\\python311\\site-packages (from python-dateutil>=2.7->matplotlib->contextily) (1.16.0)\n"
     ]
    }
   ],
   "source": [
    "pip install contextily\n"
   ]
  },
  {
   "cell_type": "code",
   "execution_count": 3,
   "metadata": {},
   "outputs": [
    {
     "name": "stdout",
     "output_type": "stream",
     "text": [
      "Requirement already satisfied: pyproj in c:\\users\\admin\\appdata\\local\\programs\\python\\python311\\lib\\site-packages (3.5.0)\n",
      "Requirement already satisfied: certifi in c:\\users\\admin\\appdata\\local\\programs\\python\\python311\\lib\\site-packages (from pyproj) (2022.12.7)\n",
      "Note: you may need to restart the kernel to use updated packages.\n"
     ]
    },
    {
     "name": "stderr",
     "output_type": "stream",
     "text": [
      "\n",
      "[notice] A new release of pip available: 22.3.1 -> 23.1.2\n",
      "[notice] To update, run: python.exe -m pip install --upgrade pip\n"
     ]
    }
   ],
   "source": [
    "pip install pyproj"
   ]
  },
  {
   "cell_type": "code",
   "execution_count": 4,
   "metadata": {},
   "outputs": [
    {
     "name": "stdout",
     "output_type": "stream",
     "text": [
      "Requirement already satisfied: scipy in c:\\users\\admin\\appdata\\local\\programs\\python\\python311\\lib\\site-packages (1.10.1)\n",
      "Requirement already satisfied: numpy<1.27.0,>=1.19.5 in c:\\users\\admin\\appdata\\local\\programs\\python\\python311\\lib\\site-packages (from scipy) (1.24.3)\n",
      "Note: you may need to restart the kernel to use updated packages.\n"
     ]
    },
    {
     "name": "stderr",
     "output_type": "stream",
     "text": [
      "\n",
      "[notice] A new release of pip available: 22.3.1 -> 23.1.2\n",
      "[notice] To update, run: python.exe -m pip install --upgrade pip\n"
     ]
    }
   ],
   "source": [
    "pip install scipy"
   ]
  },
  {
   "cell_type": "code",
   "execution_count": 5,
   "metadata": {},
   "outputs": [],
   "source": [
    "import geopandas as gp\n",
    "import shapely\n",
    "from shapely.geometry import shape\n",
    "from shapely.geometry import Point\n",
    "import requests\n",
    "import contextily as cx\n",
    "import matplotlib.pyplot as plt\n",
    "import pandas as pd\n",
    "import numpy as np\n",
    "from scipy.spatial import distance\n",
    "import json\n",
    "import time"
   ]
  },
  {
   "cell_type": "code",
   "execution_count": 7,
   "metadata": {},
   "outputs": [
    {
     "ename": "SyntaxError",
     "evalue": "invalid decimal literal (2403019702.py, line 23)",
     "output_type": "error",
     "traceback": [
      "\u001b[1;36m  Cell \u001b[1;32mIn[7], line 23\u001b[1;36m\u001b[0m\n\u001b[1;33m    streets = 'https://overpass-api.de/api/interpreter?data=[out%3Ajson][timeout%3A25]%3B%0A(%0A%20%20way[\"highway\"~\"^(motorway|trunk|primary|residential|tertiary|motorway_link|unclassified|service|secondary|secondary_link|trunk|trunk_link)%24\"]'+(51.45%2C7.268%2C51.4531%2C7.274)%3B%0A)%3B%0Aout%20geom%3B'\u001b[0m\n\u001b[1;37m                                                                                                                                                                                                                                                              ^\u001b[0m\n\u001b[1;31mSyntaxError\u001b[0m\u001b[1;31m:\u001b[0m invalid decimal literal\n"
     ]
    }
   ],
   "source": [
    "#Lädt ein Track über die TrackId als GeoDataFrame\n",
    "#@return das Geodataframe\n",
    "def loadTrack(trackId) -> gp.GeoDataFrame:\n",
    "    track = 'https://envirocar.org/api/stable/tracks/' + trackId\n",
    "    myCarTrack = gp.read_file(track)\n",
    "    tmp_list = []\n",
    "    for x in range(0,myCarTrack.shape[0],4):\n",
    "        tmp_list.append({\n",
    "        'id': myCarTrack.loc[x,'id'],\n",
    "        'time': myCarTrack.loc[x,'time'],\n",
    "        'phenomenons': myCarTrack.loc[x,'phenomenons'],\n",
    "        'geometry': myCarTrack.loc[x,'geometry']\n",
    "        })\n",
    "    subCarTrack = gp.GeoDataFrame(tmp_list)\n",
    "    return subCarTrack\n",
    "\n",
    "#Lädt die BBox von den übergebenen Trackpunkten\n",
    "#@return BBox als Array (minX, minY, maxX, maxY)\n",
    "def getBounds(subCarTrack) -> np.array:\n",
    "    minMaxCoords = subCarTrack.total_bounds\n",
    "    return minMaxCoords\n",
    "\n",
    "#Lädt die OSM Straßen in der übergebenen BBox plus einem Puffer mit der übergebenen Radiusgröße\n",
    "#@return OSM Straßen in BBox als Geodataframe\n",
    "def getStreets(minMaxCoords, radius) -> gp.GeoDataFrame:\n",
    "    streets = 'https://overpass-api.de/api/interpreter?data=[out%3Ajson][timeout%3A25]%3B%0A(%0A%20%20way[\"highway\"~\"^(motorway|trunk|primary|residential|tertiary|motorway_link|unclassified|service|secondary|secondary_link|trunk|trunk_link)%24\"]'+\\\n",
    "    '('+minMaxCoords[0]-radius + '%2C'+minMaxCoords[1]-radius + '%2C'+minMaxCoords[2]+radius + '%2C'+minMaxCoords[3]+radius+')%3B%0A)%3B%0Aout%20geom%3B'\n",
    "    response = requests.get(streets)\n",
    "    mystreets = response.json()['elements']\n",
    "    for d in mystreets:\n",
    "        coords = []\n",
    "        for p in d['geometry']:\n",
    "            coords.append((p['lon'],p['lat']))\n",
    "        data = {\"type\": \"LineString\", \"coordinates\": coords}\n",
    "        d['geometry'] = shape(data)\n",
    "    gdfStreets = gp.GeoDataFrame(mystreets).set_geometry('geometry')\n",
    "    return gdfStreets\n",
    "\n",
    "#Erzeugt einen Puffer um übergebene Trackpunkte mit übergebener Radiusgröße\n",
    "#@return pufferpolygone als Geodataframe\n",
    "def getBuffer(subCarTrack, radius) ->gp.GeoDataFrame:\n",
    "    buffer = subCarTrack.buffer(radius) #0.0002 = 20m??\n",
    "    buffergdf = gp.GeoDataFrame(geometry=buffer)\n",
    "    buffergdf.insert(0, \"Id\", range(1,1+len(buffergdf)))\n",
    "    return buffergdf\n",
    "\n",
    "#Sammle alle Straßen die in den übergebenen Puffern liegen\n",
    "#@return Straßen die in dem übergebenem Puffer liegen als GDF\n",
    "def getIntersectingStreets(gdfStreets, buffergdf) -> gp.GeoDataFrame:\n",
    "    intersectingStreets = gp.GeoDataFrame()\n",
    "    for buff in buffergdf.iterrows():\n",
    "        tempStreets = []\n",
    "        tempStreets = gp.overlay(gdfStreets, gp.GeoDataFrame(geometry=[buff[1]['geometry']]), how='intersection')\n",
    "        tempStreets['bufferId'] = buff[1]['Id']\n",
    "        intersectingStreets = pd.concat([intersectingStreets,tempStreets])\n",
    "    return intersectingStreets\n",
    "\n",
    "#Erzeugt alle am nächsten liegenden Punkte zu den Ursprungspunkten im angegebenen Polygon\n",
    "#@return alle gesnappten Punkte als GDF\n",
    "def getSnappedPoints(intersectingStreets, subCarTrack) -> gp.GeoDataFrame:\n",
    "    snappedPoints = []\n",
    "    i=0\n",
    "    for index, row in intersectingStreets.iterrows():\n",
    "        activePoint = subCarTrack.loc[row['pufferId']-1]\n",
    "        snappedPoints.append({\n",
    "            'id': i,\n",
    "            'pufferId': row['pufferId'],\n",
    "            'pointId': activePoint['id'],\n",
    "            'geometry': row['geometry'].interpolate(row['geometry'].project(activePoint.geometry))\n",
    "        })\n",
    "        i = i+1\n",
    "    snappedPointsGdf = gp.GeoDataFrame(snappedPoints)\n",
    "    return snappedPointsGdf"
   ]
  },
  {
   "cell_type": "code",
   "execution_count": null,
   "metadata": {},
   "outputs": [],
   "source": []
  }
 ],
 "metadata": {
  "kernelspec": {
   "display_name": "Python 3",
   "language": "python",
   "name": "python3"
  },
  "language_info": {
   "codemirror_mode": {
    "name": "ipython",
    "version": 3
   },
   "file_extension": ".py",
   "mimetype": "text/x-python",
   "name": "python",
   "nbconvert_exporter": "python",
   "pygments_lexer": "ipython3",
   "version": "3.11.1"
  },
  "orig_nbformat": 4
 },
 "nbformat": 4,
 "nbformat_minor": 2
}
