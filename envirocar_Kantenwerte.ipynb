{
 "cells": [
  {
   "cell_type": "code",
   "execution_count": 1,
   "id": "bbc62b1c-d8fe-4823-8344-83b2e9d59f65",
   "metadata": {
    "execution": {
     "iopub.execute_input": "2023-04-20T11:29:23.078058Z",
     "iopub.status.busy": "2023-04-20T11:29:23.077808Z",
     "iopub.status.idle": "2023-04-20T11:29:23.122454Z",
     "shell.execute_reply": "2023-04-20T11:29:23.122047Z",
     "shell.execute_reply.started": "2023-04-20T11:29:23.078039Z"
    },
    "tags": []
   },
   "outputs": [],
   "source": [
    "import requests\n",
    "import json"
   ]
  },
  {
   "cell_type": "code",
   "execution_count": 2,
   "id": "aca0c9f1-aae8-4190-9fc3-83ce8f65f8ab",
   "metadata": {
    "execution": {
     "iopub.execute_input": "2023-04-20T11:29:23.717388Z",
     "iopub.status.busy": "2023-04-20T11:29:23.717017Z",
     "iopub.status.idle": "2023-04-20T11:29:23.723699Z",
     "shell.execute_reply": "2023-04-20T11:29:23.722875Z",
     "shell.execute_reply.started": "2023-04-20T11:29:23.717369Z"
    },
    "tags": []
   },
   "outputs": [],
   "source": [
    "def getDistances(sourcePs, destPs, metrics = \"duration\"):\n",
    "    # bei \"duration\" antwort in Sekunden\n",
    "    # dei \"distance\" antwort in Metern\n",
    "    url = \"https://api.openrouteservice.org/v2/matrix/driving-car\"\n",
    "    N = len(sourcePs)\n",
    "    M = len(destPs)\n",
    "    locations = sourcePs + destPs\n",
    "    body = {\"locations\":locations, \"destinations\":list(range(N,N+M)), \"sources\":list(range(0,N)), \"metrics\":[metrics]}\n",
    "    # spalten nach destinations, zeile nach sources\n",
    "    headers = {'Accept': 'application/json, application/geo+json, application/gpx+xml, img/png; charset=utf-8',\n",
    "    'Authorization': '5b3ce3597851110001cf6248313acae367214955a3dcb710c5e4e0b8',\n",
    "    'Content-Type': 'application/json; charset=utf-8'}\n",
    "    call = requests.post(url, json=body, headers=headers)\n",
    "    #print(call)\n",
    "    edgeValues = json.loads(call.text)[metrics+\"s\"]\n",
    "    return edgeValues"
   ]
  },
  {
   "cell_type": "code",
   "execution_count": 3,
   "id": "b62dd55f-d4af-4288-8703-80ba7726c7bf",
   "metadata": {
    "execution": {
     "iopub.execute_input": "2023-04-20T11:29:24.502050Z",
     "iopub.status.busy": "2023-04-20T11:29:24.501830Z",
     "iopub.status.idle": "2023-04-20T11:29:24.513184Z",
     "shell.execute_reply": "2023-04-20T11:29:24.512524Z",
     "shell.execute_reply.started": "2023-04-20T11:29:24.502032Z"
    },
    "tags": []
   },
   "outputs": [],
   "source": [
    "def createForks(sourcePIDs, destPIDs, distMatrix):\n",
    "    retDict = {}\n",
    "    for sPID in sourcePIDs:\n",
    "        retDict[sPID] = {}\n",
    "    for j in range(0, len(sourcePIDs)):\n",
    "        sourcePID = sourcePIDs[j]\n",
    "        for i in range(0, len(destPIDs)):\n",
    "            #print(i)\n",
    "            retDict[sourcePID][destPIDs[i]] = distMatrix[j][i]\n",
    "    return retDict"
   ]
  },
  {
   "cell_type": "code",
   "execution_count": 4,
   "id": "64a2d577-fd88-4d28-ba85-c95903191ad6",
   "metadata": {
    "execution": {
     "iopub.execute_input": "2023-04-20T11:29:26.296409Z",
     "iopub.status.busy": "2023-04-20T11:29:26.295972Z",
     "iopub.status.idle": "2023-04-20T11:29:26.300560Z",
     "shell.execute_reply": "2023-04-20T11:29:26.300049Z",
     "shell.execute_reply.started": "2023-04-20T11:29:26.296392Z"
    },
    "tags": []
   },
   "outputs": [],
   "source": [
    "def createDistGraph(pDict, forkDict, metrics = \"duration\"):\n",
    "    outputGraph = {}\n",
    "    for sourcePID, destPIDList in forkDict.items():\n",
    "        tempDestPDict = {}\n",
    "        for destPID in destPIDList:\n",
    "            tempDestPDict[destPID] = pDict[destPID]\n",
    "            pDict[sourcePID]\n",
    "            outputGraph.update(createForks([sourcePID],list(tempDestPDict.keys()),getDistances([pDict[sourcePID]],list(tempDestPDict.values()), metrics = metrics)))\n",
    "    return outputGraph"
   ]
  },
  {
   "cell_type": "code",
   "execution_count": 15,
   "id": "36a2148b-ba6e-4ee4-9f08-3ad7b98b1815",
   "metadata": {
    "execution": {
     "iopub.execute_input": "2023-04-20T11:41:48.686162Z",
     "iopub.status.busy": "2023-04-20T11:41:48.685923Z",
     "iopub.status.idle": "2023-04-20T11:41:48.706972Z",
     "shell.execute_reply": "2023-04-20T11:41:48.704102Z",
     "shell.execute_reply.started": "2023-04-20T11:41:48.686144Z"
    },
    "tags": []
   },
   "outputs": [],
   "source": [
    "def createProbGraph(pDict, forkDict, metrics = \"duration\"):\n",
    "    #TODO: Kantenwerte als Wahrscheinlichkeioten...\n",
    "    outputGraph = {}\n",
    "    for sourcePID, destPIDList in forkDict.items():\n",
    "        tempDestPDict = {}\n",
    "        for destPID in destPIDList:\n",
    "            tempDestPDict[destPID] = pDict[destPID]\n",
    "            pDict[sourcePID]\n",
    "            distances = getDistances([pDict[sourcePID]],list(tempDestPDict.values()), metrics = metrics)\n",
    "            total = sum(distances[0])                         \n",
    "            ws = []\n",
    "            for value in distances[0]:\n",
    "                ws.append(value/total)\n",
    "            outputGraph.update(createForks([sourcePID],list(tempDestPDict.keys()),[ws]))\n",
    "    return outputGraph"
   ]
  },
  {
   "cell_type": "code",
   "execution_count": null,
   "id": "d72bdc98-d886-4f81-80e9-f41fc59da26e",
   "metadata": {},
   "outputs": [],
   "source": []
  },
  {
   "cell_type": "code",
   "execution_count": 5,
   "id": "3f1cd22c-1d29-47f4-840e-50b70d388dcf",
   "metadata": {
    "execution": {
     "iopub.execute_input": "2023-04-20T11:29:29.039319Z",
     "iopub.status.busy": "2023-04-20T11:29:29.038843Z",
     "iopub.status.idle": "2023-04-20T11:29:29.043050Z",
     "shell.execute_reply": "2023-04-20T11:29:29.042525Z",
     "shell.execute_reply.started": "2023-04-20T11:29:29.039293Z"
    },
    "tags": []
   },
   "outputs": [],
   "source": [
    "pDict = {0:(7.70093,51.477473), 1:(7.70993,51.477473), 2:(7.70293,51.477473),3:(7.70393,51.477473), 4:(7.70493,51.477473)}\n",
    "forkDict = {0: [2,3,4], 1:[2,3,4]}"
   ]
  },
  {
   "cell_type": "code",
   "execution_count": 6,
   "id": "859aa8fc-f7a9-4d28-93ac-e91144aff0b9",
   "metadata": {
    "execution": {
     "iopub.execute_input": "2023-04-20T11:29:29.817236Z",
     "iopub.status.busy": "2023-04-20T11:29:29.816974Z",
     "iopub.status.idle": "2023-04-20T11:29:30.709206Z",
     "shell.execute_reply": "2023-04-20T11:29:30.708675Z",
     "shell.execute_reply.started": "2023-04-20T11:29:29.817220Z"
    },
    "tags": []
   },
   "outputs": [
    {
     "data": {
      "text/plain": [
       "{0: {2: 200.42, 3: 219.52, 4: 382.03}, 1: {2: 1189.28, 3: 1208.38, 4: 1051.76}}"
      ]
     },
     "execution_count": 6,
     "metadata": {},
     "output_type": "execute_result"
    }
   ],
   "source": [
    "createDistGraph(pDict, forkDict, metrics = \"distance\")"
   ]
  },
  {
   "cell_type": "code",
   "execution_count": 7,
   "id": "baefc415-55f4-4c14-b02a-7cbbeb0fc7e3",
   "metadata": {
    "execution": {
     "iopub.execute_input": "2023-04-20T11:29:32.205984Z",
     "iopub.status.busy": "2023-04-20T11:29:32.204616Z",
     "iopub.status.idle": "2023-04-20T11:29:32.933479Z",
     "shell.execute_reply": "2023-04-20T11:29:32.932980Z",
     "shell.execute_reply.started": "2023-04-20T11:29:32.205945Z"
    },
    "tags": []
   },
   "outputs": [
    {
     "data": {
      "text/plain": [
       "{0: {2: 31.98, 3: 36.56, 4: 53.76}, 1: {2: 159.09, 3: 163.68, 4: 152.16}}"
      ]
     },
     "execution_count": 7,
     "metadata": {},
     "output_type": "execute_result"
    }
   ],
   "source": [
    "createDistGraph(pDict, forkDict, metrics = \"duration\")"
   ]
  },
  {
   "cell_type": "code",
   "execution_count": 16,
   "id": "4a9fa5a9-c78f-47bd-90e8-c927c60edcc8",
   "metadata": {
    "execution": {
     "iopub.execute_input": "2023-04-20T11:41:51.915431Z",
     "iopub.status.busy": "2023-04-20T11:41:51.914806Z",
     "iopub.status.idle": "2023-04-20T11:41:52.745630Z",
     "shell.execute_reply": "2023-04-20T11:41:52.745016Z",
     "shell.execute_reply.started": "2023-04-20T11:41:51.915404Z"
    },
    "tags": []
   },
   "outputs": [
    {
     "data": {
      "text/plain": [
       "{0: {2: 0.2614881439084219, 3: 0.2989370400654129, 4: 0.4395748160261651},\n",
       " 1: {2: 0.3349756806266187, 3: 0.344640262775567, 4: 0.32038405659781444}}"
      ]
     },
     "execution_count": 16,
     "metadata": {},
     "output_type": "execute_result"
    }
   ],
   "source": [
    "createProbGraph(pDict, forkDict, metrics = \"duration\")"
   ]
  },
  {
   "cell_type": "code",
   "execution_count": null,
   "id": "84244bbd-1b4c-4b28-9c92-515a5133d90d",
   "metadata": {},
   "outputs": [],
   "source": []
  }
 ],
 "metadata": {
  "kernelspec": {
   "display_name": "Python 3 (ipykernel)",
   "language": "python",
   "name": "python3"
  },
  "language_info": {
   "codemirror_mode": {
    "name": "ipython",
    "version": 3
   },
   "file_extension": ".py",
   "mimetype": "text/x-python",
   "name": "python",
   "nbconvert_exporter": "python",
   "pygments_lexer": "ipython3",
   "version": "3.10.8"
  }
 },
 "nbformat": 4,
 "nbformat_minor": 5
}
