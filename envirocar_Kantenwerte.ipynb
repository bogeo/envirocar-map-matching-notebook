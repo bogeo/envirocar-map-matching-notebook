{
 "cells": [
  {
   "cell_type": "code",
   "execution_count": 64,
   "id": "bbc62b1c-d8fe-4823-8344-83b2e9d59f65",
   "metadata": {
    "execution": {
     "iopub.execute_input": "2023-04-19T10:16:00.851468Z",
     "iopub.status.busy": "2023-04-19T10:16:00.851150Z",
     "iopub.status.idle": "2023-04-19T10:16:00.855352Z",
     "shell.execute_reply": "2023-04-19T10:16:00.854624Z",
     "shell.execute_reply.started": "2023-04-19T10:16:00.851439Z"
    },
    "tags": []
   },
   "outputs": [],
   "source": [
    "import requests\n",
    "import json"
   ]
  },
  {
   "cell_type": "code",
   "execution_count": 75,
   "id": "aca0c9f1-aae8-4190-9fc3-83ce8f65f8ab",
   "metadata": {
    "execution": {
     "iopub.execute_input": "2023-04-19T10:23:36.521041Z",
     "iopub.status.busy": "2023-04-19T10:23:36.520660Z",
     "iopub.status.idle": "2023-04-19T10:23:36.527664Z",
     "shell.execute_reply": "2023-04-19T10:23:36.526927Z",
     "shell.execute_reply.started": "2023-04-19T10:23:36.521010Z"
    },
    "tags": []
   },
   "outputs": [],
   "source": [
    "def getDistances(sourcePs, destPs, metrics = \"duration\"):\n",
    "    # bei \"duration\" antwort in Sekunden\n",
    "    # dei \"distance\" antwort in Metern\n",
    "    url = \"https://api.openrouteservice.org/v2/matrix/driving-car\"\n",
    "    N = len(sourcePs)\n",
    "    M = len(destPs)\n",
    "    locations = sourcePs + destPs\n",
    "    body = {\"locations\":locations, \"destinations\":list(range(N,N+M)), \"sources\":list(range(0,N)), \"metrics\":[metrics]}\n",
    "    # spalten nach destinations, zeile nach sources\n",
    "    headers = {'Accept': 'application/json, application/geo+json, application/gpx+xml, img/png; charset=utf-8',\n",
    "    'Authorization': '5b3ce3597851110001cf6248313acae367214955a3dcb710c5e4e0b8',\n",
    "    'Content-Type': 'application/json; charset=utf-8'}\n",
    "    call = requests.post(url, json=body, headers=headers)\n",
    "    #print(call)\n",
    "    edgeValues = json.loads(call.text)[metrics+\"s\"]\n",
    "    return edgeValues"
   ]
  },
  {
   "cell_type": "code",
   "execution_count": 66,
   "id": "b62dd55f-d4af-4288-8703-80ba7726c7bf",
   "metadata": {
    "execution": {
     "iopub.execute_input": "2023-04-19T10:16:02.946335Z",
     "iopub.status.busy": "2023-04-19T10:16:02.946016Z",
     "iopub.status.idle": "2023-04-19T10:16:02.951794Z",
     "shell.execute_reply": "2023-04-19T10:16:02.951049Z",
     "shell.execute_reply.started": "2023-04-19T10:16:02.946307Z"
    },
    "tags": []
   },
   "outputs": [],
   "source": [
    "def createForks(sourcePIDs, destPIDs, distMatrix):\n",
    "    retDict = {}\n",
    "    for sPID in sourcePIDs:\n",
    "        retDict[sPID] = {}\n",
    "    for j in range(0, len(sourcePIDs)):\n",
    "        sourcePID = sourcePIDs[j]\n",
    "        for i in range(0, len(destPIDs)):\n",
    "            #print(i)\n",
    "            retDict[sourcePID][destPIDs[i]] = distMatrix[j][i]\n",
    "    return retDict"
   ]
  },
  {
   "cell_type": "code",
   "execution_count": 76,
   "id": "64a2d577-fd88-4d28-ba85-c95903191ad6",
   "metadata": {
    "execution": {
     "iopub.execute_input": "2023-04-19T10:24:03.396429Z",
     "iopub.status.busy": "2023-04-19T10:24:03.396035Z",
     "iopub.status.idle": "2023-04-19T10:24:03.402388Z",
     "shell.execute_reply": "2023-04-19T10:24:03.401663Z",
     "shell.execute_reply.started": "2023-04-19T10:24:03.396399Z"
    },
    "tags": []
   },
   "outputs": [],
   "source": [
    "def createDistGraph(pDict, forkDict, metrics = \"duration\"):\n",
    "    outputGraph = {}\n",
    "    for sourcePID, destPIDList in forkDict.items():\n",
    "        tempDestPDict = {}\n",
    "        for destPID in destPIDList:\n",
    "            tempDestPDict[destPID] = pDict[destPID]\n",
    "            pDict[sourcePID]\n",
    "            outputGraph.update(createForks([sourcePID],list(tempDestPDict.keys()),getDistances([pDict[sourcePID]],list(tempDestPDict.values()), metrics = metrics)))\n",
    "    return outputGraph"
   ]
  },
  {
   "cell_type": "code",
   "execution_count": 83,
   "id": "36a2148b-ba6e-4ee4-9f08-3ad7b98b1815",
   "metadata": {
    "execution": {
     "iopub.execute_input": "2023-04-19T10:29:52.334097Z",
     "iopub.status.busy": "2023-04-19T10:29:52.333727Z",
     "iopub.status.idle": "2023-04-19T10:29:52.340601Z",
     "shell.execute_reply": "2023-04-19T10:29:52.339539Z",
     "shell.execute_reply.started": "2023-04-19T10:29:52.334066Z"
    },
    "tags": []
   },
   "outputs": [],
   "source": [
    "def createProbGraph(pDict, forkDict, metrics = \"duration\"):\n",
    "    #TODO: Kantenwerte als Wahrscheinlichkeioten...\n",
    "    outputGraph = {}\n",
    "    for sourcePID, destPIDList in forkDict.items():\n",
    "        tempDestPDict = {}\n",
    "        for destPID in destPIDList:\n",
    "            tempDestPDict[destPID] = pDict[destPID]\n",
    "            pDict[sourcePID]\n",
    "            outputGraph.update(createForks([sourcePID],list(tempDestPDict.keys()),getDistances([pDict[sourcePID]],list(tempDestPDict.values()), metrics = metrics)))\n",
    "    return outputGraph"
   ]
  },
  {
   "cell_type": "code",
   "execution_count": 79,
   "id": "3f1cd22c-1d29-47f4-840e-50b70d388dcf",
   "metadata": {
    "execution": {
     "iopub.execute_input": "2023-04-19T10:25:24.901127Z",
     "iopub.status.busy": "2023-04-19T10:25:24.900501Z",
     "iopub.status.idle": "2023-04-19T10:25:24.906187Z",
     "shell.execute_reply": "2023-04-19T10:25:24.905438Z",
     "shell.execute_reply.started": "2023-04-19T10:25:24.901069Z"
    },
    "tags": []
   },
   "outputs": [],
   "source": [
    "pDict = {0:(7.70093,51.477473), 1:(7.70993,51.477473), 2:(7.70293,51.477473),3:(7.70393,51.477473), 4:(7.70493,51.477473)}\n",
    "forkDict = {0: [2,3,4], 1:[2,3,4]}"
   ]
  },
  {
   "cell_type": "code",
   "execution_count": 80,
   "id": "859aa8fc-f7a9-4d28-93ac-e91144aff0b9",
   "metadata": {
    "execution": {
     "iopub.execute_input": "2023-04-19T10:25:30.115682Z",
     "iopub.status.busy": "2023-04-19T10:25:30.115349Z",
     "iopub.status.idle": "2023-04-19T10:25:30.928249Z",
     "shell.execute_reply": "2023-04-19T10:25:30.927207Z",
     "shell.execute_reply.started": "2023-04-19T10:25:30.115653Z"
    },
    "tags": []
   },
   "outputs": [
    {
     "data": {
      "text/plain": [
       "{0: {2: 200.42, 3: 219.52, 4: 382.03}, 1: {2: 1189.28, 3: 1208.38, 4: 1051.76}}"
      ]
     },
     "execution_count": 80,
     "metadata": {},
     "output_type": "execute_result"
    }
   ],
   "source": [
    "createDistGraph(pDict, forkDict, metrics = \"distance\")"
   ]
  },
  {
   "cell_type": "code",
   "execution_count": 81,
   "id": "baefc415-55f4-4c14-b02a-7cbbeb0fc7e3",
   "metadata": {
    "execution": {
     "iopub.execute_input": "2023-04-19T10:25:34.122700Z",
     "iopub.status.busy": "2023-04-19T10:25:34.122346Z",
     "iopub.status.idle": "2023-04-19T10:25:34.882588Z",
     "shell.execute_reply": "2023-04-19T10:25:34.881625Z",
     "shell.execute_reply.started": "2023-04-19T10:25:34.122669Z"
    },
    "tags": []
   },
   "outputs": [
    {
     "data": {
      "text/plain": [
       "{0: {2: 31.98, 3: 36.56, 4: 53.76}, 1: {2: 159.09, 3: 163.68, 4: 152.16}}"
      ]
     },
     "execution_count": 81,
     "metadata": {},
     "output_type": "execute_result"
    }
   ],
   "source": [
    "createDistGraph(pDict, forkDict, metrics = \"duration\")"
   ]
  },
  {
   "cell_type": "code",
   "execution_count": null,
   "id": "84244bbd-1b4c-4b28-9c92-515a5133d90d",
   "metadata": {},
   "outputs": [],
   "source": []
  }
 ],
 "metadata": {
  "kernelspec": {
   "display_name": "Python 3 (ipykernel)",
   "language": "python",
   "name": "python3"
  },
  "language_info": {
   "codemirror_mode": {
    "name": "ipython",
    "version": 3
   },
   "file_extension": ".py",
   "mimetype": "text/x-python",
   "name": "python",
   "nbconvert_exporter": "python",
   "pygments_lexer": "ipython3",
   "version": "3.10.8"
  }
 },
 "nbformat": 4,
 "nbformat_minor": 5
}
