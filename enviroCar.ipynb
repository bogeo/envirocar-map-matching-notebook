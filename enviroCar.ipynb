{
 "cells": [
  {
   "cell_type": "code",
   "execution_count": null,
   "id": "104ed513",
   "metadata": {
    "execution": {
     "iopub.execute_input": "2023-04-25T09:49:20.791728Z",
     "iopub.status.busy": "2023-04-25T09:49:20.791443Z",
     "iopub.status.idle": "2023-04-25T09:49:20.800141Z",
     "shell.execute_reply": "2023-04-25T09:49:20.799416Z",
     "shell.execute_reply.started": "2023-04-25T09:49:20.791691Z"
    },
    "tags": []
   },
   "outputs": [],
   "source": [
    "track = 'https://envirocar.org/api/stable/tracks/63948bc3ad53a0015a08780f'\n",
    "streets = 'https://overpass-api.de/api/interpreter?data=[out%3Ajson][timeout%3A25]%3B%0A(%0A%20%20way[\"highway\"~\"^(motorway|trunk|primary|residential|tertiary|motorway_link|unclassified|service|secondary|secondary_link|trunk|trunk_link)%24\"](51.45%2C7.268%2C51.4531%2C7.274)%3B%0A)%3B%0Aout%20geom%3B'"
   ]
  },
  {
   "cell_type": "code",
   "execution_count": null,
   "id": "79a4d8fc",
   "metadata": {
    "execution": {
     "iopub.execute_input": "2023-04-25T09:49:20.802579Z",
     "iopub.status.busy": "2023-04-25T09:49:20.802042Z",
     "iopub.status.idle": "2023-04-25T09:49:22.227822Z",
     "shell.execute_reply": "2023-04-25T09:49:22.226847Z",
     "shell.execute_reply.started": "2023-04-25T09:49:20.802549Z"
    },
    "scrolled": true,
    "tags": []
   },
   "outputs": [],
   "source": [
    "pip install geopandas"
   ]
  },
  {
   "cell_type": "code",
   "execution_count": null,
   "id": "7e9c25d0",
   "metadata": {
    "execution": {
     "iopub.execute_input": "2023-04-25T09:49:22.229507Z",
     "iopub.status.busy": "2023-04-25T09:49:22.229168Z",
     "iopub.status.idle": "2023-04-25T09:49:23.642527Z",
     "shell.execute_reply": "2023-04-25T09:49:23.641490Z",
     "shell.execute_reply.started": "2023-04-25T09:49:22.229477Z"
    },
    "scrolled": true,
    "tags": []
   },
   "outputs": [],
   "source": [
    "pip install contextily\n"
   ]
  },
  {
   "cell_type": "code",
   "execution_count": null,
   "id": "1851839c",
   "metadata": {},
   "outputs": [],
   "source": [
    "pip install pyproj"
   ]
  },
  {
   "cell_type": "code",
   "execution_count": null,
   "id": "e5b5dd5f",
   "metadata": {},
   "outputs": [],
   "source": [
    "pip install scipy"
   ]
  },
  {
   "cell_type": "code",
   "execution_count": null,
   "id": "66efc995",
   "metadata": {
    "execution": {
     "iopub.execute_input": "2023-04-25T09:49:23.644024Z",
     "iopub.status.busy": "2023-04-25T09:49:23.643727Z",
     "iopub.status.idle": "2023-04-25T09:49:24.445618Z",
     "shell.execute_reply": "2023-04-25T09:49:24.444798Z",
     "shell.execute_reply.started": "2023-04-25T09:49:23.643996Z"
    },
    "scrolled": true,
    "tags": []
   },
   "outputs": [],
   "source": [
    "import geopandas as gp\n",
    "from shapely.geometry import shape\n",
    "import requests\n",
    "import contextily as cx\n",
    "import matplotlib.pyplot as plt\n",
    "import pandas as pd\n",
    "import numpy as np\n",
    "from scipy.spatial import distance\n",
    "import json\n",
    "import time"
   ]
  },
  {
   "cell_type": "code",
   "execution_count": null,
   "id": "a06a9f4e",
   "metadata": {
    "execution": {
     "iopub.execute_input": "2023-04-25T09:49:24.446543Z",
     "iopub.status.busy": "2023-04-25T09:49:24.446317Z",
     "iopub.status.idle": "2023-04-25T09:49:24.669852Z",
     "shell.execute_reply": "2023-04-25T09:49:24.668927Z",
     "shell.execute_reply.started": "2023-04-25T09:49:24.446528Z"
    },
    "scrolled": true,
    "tags": []
   },
   "outputs": [],
   "source": [
    "response = requests.get(streets)\n",
    "mystreets = response.json()['elements']\n",
    "for d in mystreets:\n",
    "    coords = []\n",
    "    for p in d['geometry']:\n",
    "        coords.append((p['lon'],p['lat']))\n",
    "    data = {\"type\": \"LineString\", \"coordinates\": coords}\n",
    "    d['geometry'] = shape(data)\n",
    "gdf = gp.GeoDataFrame(mystreets).set_geometry('geometry')\n",
    "#gdf.head()"
   ]
  },
  {
   "cell_type": "code",
   "execution_count": null,
   "id": "9da3681c",
   "metadata": {},
   "outputs": [],
   "source": [
    "mystreets"
   ]
  },
  {
   "cell_type": "code",
   "execution_count": null,
   "id": "e26c3654",
   "metadata": {
    "execution": {
     "iopub.execute_input": "2023-04-25T09:49:24.671553Z",
     "iopub.status.busy": "2023-04-25T09:49:24.671225Z",
     "iopub.status.idle": "2023-04-25T09:49:24.901386Z",
     "shell.execute_reply": "2023-04-25T09:49:24.900253Z",
     "shell.execute_reply.started": "2023-04-25T09:49:24.671523Z"
    },
    "scrolled": true,
    "tags": []
   },
   "outputs": [],
   "source": [
    "mytrack = gp.read_file(track)\n",
    "#mytrack"
   ]
  },
  {
   "cell_type": "code",
   "execution_count": null,
   "id": "e30e7890",
   "metadata": {
    "execution": {
     "iopub.execute_input": "2023-04-25T09:49:24.905254Z",
     "iopub.status.busy": "2023-04-25T09:49:24.904898Z",
     "iopub.status.idle": "2023-04-25T09:49:24.914798Z",
     "shell.execute_reply": "2023-04-25T09:49:24.913764Z",
     "shell.execute_reply.started": "2023-04-25T09:49:24.905222Z"
    },
    "scrolled": true,
    "tags": []
   },
   "outputs": [],
   "source": [
    "tmp_list = []\n",
    "for x in range(0,mytrack.shape[0],4):\n",
    "    tmp_list.append({\n",
    "      'id': mytrack.loc[x,'id'],\n",
    "      'time': mytrack.loc[x,'time'],\n",
    "      'phenomenons': mytrack.loc[x,'phenomenons'],\n",
    "      'geometry': mytrack.loc[x,'geometry']\n",
    "     })\n",
    "subTracks = gp.GeoDataFrame(tmp_list)\n",
    "#subTracks"
   ]
  },
  {
   "cell_type": "code",
   "execution_count": null,
   "id": "645eeb73",
   "metadata": {
    "execution": {
     "iopub.execute_input": "2023-04-25T10:54:38.044757Z",
     "iopub.status.busy": "2023-04-25T10:54:38.044411Z",
     "iopub.status.idle": "2023-04-25T10:54:38.048688Z",
     "shell.execute_reply": "2023-04-25T10:54:38.047926Z",
     "shell.execute_reply.started": "2023-04-25T10:54:38.044727Z"
    },
    "tags": []
   },
   "outputs": [],
   "source": [
    "#subTracks"
   ]
  },
  {
   "cell_type": "code",
   "execution_count": null,
   "id": "6624cf07",
   "metadata": {},
   "outputs": [],
   "source": [
    "# check PROJ_LIB env variable. it should point to rasterio specific prof_data folder\n",
    "# make sure that system env variable points to that respective location\n",
    "echo %PROJ_LIB%"
   ]
  },
  {
   "cell_type": "code",
   "execution_count": null,
   "id": "616f8ef4",
   "metadata": {
    "execution": {
     "iopub.execute_input": "2023-04-25T09:49:24.975744Z",
     "iopub.status.busy": "2023-04-25T09:49:24.975614Z",
     "iopub.status.idle": "2023-04-25T09:49:33.049339Z",
     "shell.execute_reply": "2023-04-25T09:49:33.048640Z",
     "shell.execute_reply.started": "2023-04-25T09:49:24.975733Z"
    },
    "tags": []
   },
   "outputs": [],
   "source": [
    "plt.rcParams['figure.figsize'] = [12, 8]\n",
    "plt.rcParams['figure.dpi'] = 100 # 200 e.g. is really fine, but slower\n",
    "#worldMap = gp.read_file(gp.datasets.get_path(\"naturalearth_lowres\"))\n",
    "ax = subTracks.plot(ax=gdf.plot(), color='red', markersize=8)\n",
    "cx.add_basemap(ax, source=cx.providers.OpenStreetMap.Mapnik, crs=4326)"
   ]
  },
  {
   "cell_type": "code",
   "execution_count": null,
   "id": "bb8bbcd4",
   "metadata": {
    "execution": {
     "iopub.execute_input": "2023-04-25T09:50:51.827410Z",
     "iopub.status.busy": "2023-04-25T09:50:51.827007Z",
     "iopub.status.idle": "2023-04-25T09:50:51.833241Z",
     "shell.execute_reply": "2023-04-25T09:50:51.832359Z",
     "shell.execute_reply.started": "2023-04-25T09:50:51.827378Z"
    },
    "tags": []
   },
   "outputs": [],
   "source": [
    "puffer = subTracks.buffer(0.0002)"
   ]
  },
  {
   "cell_type": "code",
   "execution_count": null,
   "id": "d42d8a3b",
   "metadata": {
    "execution": {
     "iopub.execute_input": "2023-04-25T09:50:56.810687Z",
     "iopub.status.busy": "2023-04-25T09:50:56.809662Z",
     "iopub.status.idle": "2023-04-25T09:50:56.817648Z",
     "shell.execute_reply": "2023-04-25T09:50:56.816757Z",
     "shell.execute_reply.started": "2023-04-25T09:50:56.810650Z"
    },
    "tags": []
   },
   "outputs": [],
   "source": [
    "puffergdf = gp.GeoDataFrame(geometry=puffer)"
   ]
  },
  {
   "cell_type": "code",
   "execution_count": null,
   "id": "9d9d69d0",
   "metadata": {
    "execution": {
     "iopub.execute_input": "2023-04-25T09:51:09.288344Z",
     "iopub.status.busy": "2023-04-25T09:51:09.287932Z",
     "iopub.status.idle": "2023-04-25T09:51:09.293799Z",
     "shell.execute_reply": "2023-04-25T09:51:09.292860Z",
     "shell.execute_reply.started": "2023-04-25T09:51:09.288311Z"
    },
    "tags": []
   },
   "outputs": [],
   "source": [
    "puffergdf.insert(0, \"Id\", range(1,1+len(puffergdf)))"
   ]
  },
  {
   "cell_type": "code",
   "execution_count": null,
   "id": "95cca7d2",
   "metadata": {
    "execution": {
     "iopub.execute_input": "2023-04-25T09:51:10.543369Z",
     "iopub.status.busy": "2023-04-25T09:51:10.543030Z",
     "iopub.status.idle": "2023-04-25T09:51:10.694591Z",
     "shell.execute_reply": "2023-04-25T09:51:10.694177Z",
     "shell.execute_reply.started": "2023-04-25T09:51:10.543337Z"
    },
    "tags": []
   },
   "outputs": [],
   "source": [
    "tempStreets2 = gp.GeoDataFrame()\n",
    "for puff in puffergdf.iterrows():\n",
    "    tempStreets = []\n",
    "    tempStreets = gp.overlay(gdf, gp.GeoDataFrame(geometry=[puff[1]['geometry']]), how='intersection')\n",
    "    tempStreets['pufferId'] = puff[1]['Id']\n",
    "    tempStreets2 = pd.concat([tempStreets2,tempStreets])"
   ]
  },
  {
   "cell_type": "code",
   "execution_count": null,
   "id": "267c43f0",
   "metadata": {
    "execution": {
     "iopub.execute_input": "2023-04-25T09:49:33.173827Z",
     "iopub.status.busy": "2023-04-25T09:49:33.173701Z",
     "iopub.status.idle": "2023-04-25T09:49:33.176113Z",
     "shell.execute_reply": "2023-04-25T09:49:33.175781Z",
     "shell.execute_reply.started": "2023-04-25T09:49:33.173815Z"
    },
    "tags": []
   },
   "outputs": [],
   "source": [
    "import shapely"
   ]
  },
  {
   "cell_type": "code",
   "execution_count": null,
   "id": "fdba3b4d",
   "metadata": {
    "execution": {
     "iopub.execute_input": "2023-04-25T09:51:13.206064Z",
     "iopub.status.busy": "2023-04-25T09:51:13.205748Z",
     "iopub.status.idle": "2023-04-25T09:51:13.224365Z",
     "shell.execute_reply": "2023-04-25T09:51:13.223599Z",
     "shell.execute_reply.started": "2023-04-25T09:51:13.206038Z"
    },
    "scrolled": true,
    "tags": []
   },
   "outputs": [],
   "source": [
    "snappedPoints = []\n",
    "i=0\n",
    "for index, row in tempStreets2.iterrows():\n",
    "    activePoint = subTracks.loc[row['pufferId']-1]\n",
    "    snappedPoints.append({\n",
    "        'id': i,\n",
    "        'pufferId': row['pufferId'],\n",
    "        'pointId': activePoint['id'],\n",
    "        'geometry': row['geometry'].interpolate(row['geometry'].project(activePoint.geometry))\n",
    "     })\n",
    "    i = i+1\n",
    "snappedPointsGdf = gp.GeoDataFrame(snappedPoints)"
   ]
  },
  {
   "cell_type": "code",
   "execution_count": null,
   "id": "7be54342",
   "metadata": {
    "execution": {
     "iopub.execute_input": "2023-04-25T10:54:32.123739Z",
     "iopub.status.busy": "2023-04-25T10:54:32.123351Z",
     "iopub.status.idle": "2023-04-25T10:54:32.127810Z",
     "shell.execute_reply": "2023-04-25T10:54:32.127031Z",
     "shell.execute_reply.started": "2023-04-25T10:54:32.123708Z"
    },
    "tags": []
   },
   "outputs": [],
   "source": [
    "plt.rcParams['figure.figsize'] = [12, 8]\n",
    "plt.rcParams['figure.dpi'] = 100 # 200 e.g. is really fine, but slower\n",
    "#worldMap = gp.read_file(gp.datasets.get_path(\"naturalearth_lowres\"))\n",
    "ax = subTracks.plot(ax=snappedPointsGdf.plot(), color='red', markersize=8)\n",
    "cx.add_basemap(ax, source=cx.providers.OpenStreetMap.Mapnik, crs=4326)"
   ]
  },
  {
   "cell_type": "code",
   "execution_count": null,
   "id": "d903bbbd",
   "metadata": {
    "execution": {
     "iopub.execute_input": "2023-04-25T10:54:22.276706Z",
     "iopub.status.busy": "2023-04-25T10:54:22.276360Z",
     "iopub.status.idle": "2023-04-25T10:54:22.280577Z",
     "shell.execute_reply": "2023-04-25T10:54:22.279829Z",
     "shell.execute_reply.started": "2023-04-25T10:54:22.276676Z"
    },
    "tags": []
   },
   "outputs": [],
   "source": [
    "#snappedPointsGdf"
   ]
  },
  {
   "cell_type": "code",
   "execution_count": null,
   "id": "a4b003c3",
   "metadata": {
    "execution": {
     "iopub.execute_input": "2023-04-25T10:54:18.867014Z",
     "iopub.status.busy": "2023-04-25T10:54:18.866611Z",
     "iopub.status.idle": "2023-04-25T10:54:18.876406Z",
     "shell.execute_reply": "2023-04-25T10:54:18.875595Z",
     "shell.execute_reply.started": "2023-04-25T10:54:18.866983Z"
    },
    "scrolled": true,
    "tags": []
   },
   "outputs": [],
   "source": [
    "koordinaten = {}\n",
    "for index, row in snappedPointsGdf.iterrows():\n",
    "    koordinaten[row['id']] = (row['geometry'].x, row['geometry'].y)\n",
    "koordinaten"
   ]
  },
  {
   "cell_type": "code",
   "execution_count": null,
   "id": "481e0fda",
   "metadata": {
    "execution": {
     "iopub.execute_input": "2023-04-25T09:51:47.508209Z",
     "iopub.status.busy": "2023-04-25T09:51:47.507828Z",
     "iopub.status.idle": "2023-04-25T09:51:47.512641Z",
     "shell.execute_reply": "2023-04-25T09:51:47.511595Z",
     "shell.execute_reply.started": "2023-04-25T09:51:47.508178Z"
    },
    "tags": []
   },
   "outputs": [],
   "source": [
    "#dict(list(koordinaten.items())[:5])"
   ]
  },
  {
   "cell_type": "code",
   "execution_count": null,
   "id": "f739e3d6",
   "metadata": {
    "execution": {
     "iopub.execute_input": "2023-04-25T09:49:33.810758Z",
     "iopub.status.busy": "2023-04-25T09:49:33.810636Z",
     "iopub.status.idle": "2023-04-25T09:49:33.814516Z",
     "shell.execute_reply": "2023-04-25T09:49:33.813971Z",
     "shell.execute_reply.started": "2023-04-25T09:49:33.810747Z"
    },
    "tags": []
   },
   "outputs": [],
   "source": [
    "#puffergdf"
   ]
  },
  {
   "cell_type": "code",
   "execution_count": null,
   "id": "167c43a3",
   "metadata": {
    "execution": {
     "iopub.execute_input": "2023-04-25T09:51:50.040653Z",
     "iopub.status.busy": "2023-04-25T09:51:50.040303Z",
     "iopub.status.idle": "2023-04-25T09:51:50.075183Z",
     "shell.execute_reply": "2023-04-25T09:51:50.074425Z",
     "shell.execute_reply.started": "2023-04-25T09:51:50.040621Z"
    },
    "scrolled": true,
    "tags": []
   },
   "outputs": [],
   "source": [
    "init_graph1 = {}\n",
    "lastIndex = -1\n",
    "for index, puffrow in puffergdf.iterrows():\n",
    "    if lastIndex != -1: #nicht erste iteration\n",
    "        tempPoints = snappedPointsGdf.loc[snappedPointsGdf['pufferId'] == puffrow['Id']]\n",
    "        for j, firstCol in (snappedPointsGdf.loc[snappedPointsGdf['pufferId'] == lastIndex]).iterrows():\n",
    "            init_graph1[firstCol['id']] = list(tempPoints['id'])\n",
    "    lastIndex = puffrow['Id']\n",
    "#init_graph1"
   ]
  },
  {
   "cell_type": "code",
   "execution_count": null,
   "id": "a1fe9221",
   "metadata": {
    "execution": {
     "iopub.execute_input": "2023-04-25T09:49:33.838693Z",
     "iopub.status.busy": "2023-04-25T09:49:33.838573Z",
     "iopub.status.idle": "2023-04-25T09:49:33.843186Z",
     "shell.execute_reply": "2023-04-25T09:49:33.842862Z",
     "shell.execute_reply.started": "2023-04-25T09:49:33.838682Z"
    },
    "tags": []
   },
   "outputs": [],
   "source": [
    "def getDistances(sourcePs, destPs, metrics = \"duration\"):\n",
    "    # bei \"duration\" antwort in Sekunden\n",
    "    # dei \"distance\" antwort in Metern\n",
    "    url = \"https://ors5.fbg-hsbo.de//v2/matrix/driving-car\"\n",
    "    N = len(sourcePs)\n",
    "    M = len(destPs)\n",
    "    locationsP = sourcePs + destPs\n",
    "    body = {\"locations\":locationsP, \"destinations\":list(range(N,N+M)), \"sources\":list(range(0,N)), \"metrics\":[metrics]}\n",
    "    # spalten nach destinations, zeile nach sources\n",
    "    headers = {'Accept': 'application/json, application/geo+json, application/gpx+xml, img/png; charset=utf-8',\n",
    "    'Authorization': '5b3ce3597851110001cf624837b0be5d89604065b03e13c82ba84c06',\n",
    "    'Content-Type': 'application/json; charset=utf-8'}\n",
    "    call = requests.post(url, json=body)\n",
    "    edgeValues = json.loads(call.text)[metrics+\"s\"]\n",
    "    return edgeValues"
   ]
  },
  {
   "cell_type": "code",
   "execution_count": null,
   "id": "e8f2c2ed",
   "metadata": {
    "execution": {
     "iopub.execute_input": "2023-04-25T09:51:59.792474Z",
     "iopub.status.busy": "2023-04-25T09:51:59.792128Z",
     "iopub.status.idle": "2023-04-25T09:51:59.798080Z",
     "shell.execute_reply": "2023-04-25T09:51:59.797307Z",
     "shell.execute_reply.started": "2023-04-25T09:51:59.792445Z"
    },
    "tags": []
   },
   "outputs": [],
   "source": [
    "def createForks(sourcePIDs, destPIDs, distMatrix):\n",
    "    retDict = {}\n",
    "    for sPID in sourcePIDs:\n",
    "        retDict[sPID] = {}\n",
    "    for j in range(0, len(sourcePIDs)):\n",
    "        sourcePID = sourcePIDs[j]\n",
    "        for i in range(0, len(destPIDs)):\n",
    "            #print(i)\n",
    "            retDict[sourcePID][destPIDs[i]] = distMatrix[j][i]\n",
    "    return retDict"
   ]
  },
  {
   "cell_type": "code",
   "execution_count": null,
   "id": "e072e571",
   "metadata": {
    "execution": {
     "iopub.execute_input": "2023-04-25T09:52:01.436080Z",
     "iopub.status.busy": "2023-04-25T09:52:01.435738Z",
     "iopub.status.idle": "2023-04-25T09:52:01.441914Z",
     "shell.execute_reply": "2023-04-25T09:52:01.441144Z",
     "shell.execute_reply.started": "2023-04-25T09:52:01.436052Z"
    },
    "tags": []
   },
   "outputs": [],
   "source": [
    "def createDistGraph(pDict, forkDict, metrics = \"duration\"):\n",
    "    outputGraph = {}\n",
    "    for sourcePID, destPIDList in forkDict.items():\n",
    "        tempDestPDict = {}\n",
    "        for destPID in destPIDList:\n",
    "            tempDestPDict[destPID] = pDict[destPID]\n",
    "            pDict[sourcePID]\n",
    "            outputGraph.update(createForks([sourcePID],list(tempDestPDict.keys()),getDistances([pDict[sourcePID]],list(tempDestPDict.values()), metrics = metrics)))\n",
    "    return outputGraph"
   ]
  },
  {
   "cell_type": "code",
   "execution_count": null,
   "id": "e0fa3650",
   "metadata": {
    "execution": {
     "iopub.execute_input": "2023-04-25T09:52:02.911919Z",
     "iopub.status.busy": "2023-04-25T09:52:02.911588Z",
     "iopub.status.idle": "2023-04-25T09:52:02.918503Z",
     "shell.execute_reply": "2023-04-25T09:52:02.917618Z",
     "shell.execute_reply.started": "2023-04-25T09:52:02.911890Z"
    },
    "tags": []
   },
   "outputs": [],
   "source": [
    "def createProbGraph(pDict, forkDict, metrics = \"duration\"):\n",
    "    #TODO: Kantenwerte als Wahrscheinlichkeioten...\n",
    "    outputGraph = {}\n",
    "    for sourcePID, destPIDList in forkDict.items():\n",
    "        tempDestPDict = {}\n",
    "        for destPID in destPIDList:\n",
    "            tempDestPDict[destPID] = pDict[destPID]\n",
    "            pDict[sourcePID]\n",
    "            distances = getDistances([pDict[sourcePID]],list(tempDestPDict.values()), metrics = metrics)\n",
    "            total = sum(distances[0])                         \n",
    "            ws = []\n",
    "            for value in distances[0]:\n",
    "                ws.append(value/total)\n",
    "            outputGraph.update(createForks([sourcePID],list(tempDestPDict.keys()),[ws]))\n",
    "            #time.sleep(10)\n",
    "    return outputGraph"
   ]
  },
  {
   "cell_type": "code",
   "execution_count": null,
   "id": "81e75528",
   "metadata": {
    "execution": {
     "iopub.execute_input": "2023-04-25T09:52:19.863588Z",
     "iopub.status.busy": "2023-04-25T09:52:19.863185Z",
     "iopub.status.idle": "2023-04-25T10:10:16.633822Z",
     "shell.execute_reply": "2023-04-25T10:10:16.632794Z",
     "shell.execute_reply.started": "2023-04-25T09:52:19.863556Z"
    },
    "scrolled": true,
    "tags": []
   },
   "outputs": [],
   "source": [
    "outputGraph = createProbGraph(koordinaten, init_graph1)"
   ]
  },
  {
   "cell_type": "code",
   "execution_count": null,
   "id": "a5268b01",
   "metadata": {
    "execution": {
     "iopub.execute_input": "2023-04-25T10:52:00.543841Z",
     "iopub.status.busy": "2023-04-25T10:52:00.543444Z",
     "iopub.status.idle": "2023-04-25T10:52:00.547921Z",
     "shell.execute_reply": "2023-04-25T10:52:00.547042Z",
     "shell.execute_reply.started": "2023-04-25T10:52:00.543810Z"
    },
    "tags": []
   },
   "outputs": [],
   "source": [
    "#outputGraph"
   ]
  },
  {
   "cell_type": "code",
   "execution_count": null,
   "id": "8d12ad3c",
   "metadata": {
    "execution": {
     "iopub.execute_input": "2023-04-25T10:49:15.286245Z",
     "iopub.status.busy": "2023-04-25T10:49:15.285843Z",
     "iopub.status.idle": "2023-04-25T10:49:15.383621Z",
     "shell.execute_reply": "2023-04-25T10:49:15.383272Z",
     "shell.execute_reply.started": "2023-04-25T10:49:15.286213Z"
    },
    "tags": []
   },
   "outputs": [],
   "source": [
    "d_graph = {}\n",
    "d_graph[-1] = {}\n",
    "for index, node in snappedPointsGdf.iterrows():\n",
    "    d_graph[node['id']] = {}\n",
    "lastIndex = -1\n",
    "for index, puffrow in puffergdf.iterrows():\n",
    "    tempPoints = snappedPointsGdf.loc[snappedPointsGdf['pufferId'] == puffrow['Id']]\n",
    "    summe = 0\n",
    "    for index, tp1 in tempPoints.iterrows():\n",
    "        actSnappedPoint = (tp1['geometry'].x, tp1['geometry'].y)\n",
    "        actBasePoint = (subTracks['geometry'].iloc[puffrow['Id']-1].x, subTracks['geometry'].iloc[puffrow['Id']-1].y)\n",
    "        abstand = distance.euclidean(actSnappedPoint, actBasePoint)\n",
    "        summe = summe + abstand\n",
    "    if lastIndex == -1:\n",
    "        for index, tp in tempPoints.iterrows():\n",
    "            actSnappedPoint = (tp['geometry'].x, tp['geometry'].y)\n",
    "            actBasePoint = (subTracks['geometry'].iloc[puffrow['Id']-1].x, subTracks['geometry'].iloc[puffrow['Id']-1].y)\n",
    "            abstand = distance.euclidean(actSnappedPoint, actBasePoint)\n",
    "            d_graph[-1][tp['id']] = 1-(abstand/summe)\n",
    "    else:\n",
    "        for i, secondCol in tempPoints.iterrows():\n",
    "            for j, firstCol in (snappedPointsGdf.loc[snappedPointsGdf['pufferId'] == lastIndex]).iterrows():\n",
    "                actBasePoint = (subTracks['geometry'].iloc[puffrow['Id']-1].x, subTracks['geometry'].iloc[puffrow['Id']-1].y)\n",
    "                secColPoint = (secondCol['geometry'].x, secondCol['geometry'].y)\n",
    "                abstand = distance.euclidean(actBasePoint, secColPoint)\n",
    "                #d_graph[firstCol['id']][secondCol['id']] = (1-(abstand/summe)) * 100\n",
    "                #print(abstand/summe)\n",
    "                d_graph[firstCol['id']][secondCol['id']] = (1-(abstand/summe)) * outputGraph[firstCol['id']][secondCol['id']]\n",
    "    lastIndex = puffrow['Id']\n",
    "for index, pts in snappedPointsGdf.loc[snappedPointsGdf['pufferId'] == puffergdf['Id'].max()].iterrows():\n",
    "    d_graph[pts['id']][-2] = 0"
   ]
  },
  {
   "cell_type": "code",
   "execution_count": null,
   "id": "58bc7673",
   "metadata": {
    "execution": {
     "iopub.execute_input": "2023-04-25T10:51:36.113668Z",
     "iopub.status.busy": "2023-04-25T10:51:36.112923Z",
     "iopub.status.idle": "2023-04-25T10:51:36.117254Z",
     "shell.execute_reply": "2023-04-25T10:51:36.116485Z",
     "shell.execute_reply.started": "2023-04-25T10:51:36.113635Z"
    },
    "scrolled": true,
    "tags": []
   },
   "outputs": [],
   "source": [
    "#d_graph"
   ]
  },
  {
   "cell_type": "code",
   "execution_count": null,
   "id": "2f90fe4b",
   "metadata": {
    "execution": {
     "iopub.status.busy": "2023-04-25T09:49:33.970026Z",
     "iopub.status.idle": "2023-04-25T09:49:33.970208Z",
     "shell.execute_reply": "2023-04-25T09:49:33.970121Z",
     "shell.execute_reply.started": "2023-04-25T09:49:33.970112Z"
    },
    "scrolled": true,
    "tags": []
   },
   "outputs": [],
   "source": [
    "#els = list(d_graph.items())\n",
    "#els[-1]"
   ]
  },
  {
   "cell_type": "code",
   "execution_count": null,
   "id": "eb109f95",
   "metadata": {},
   "outputs": [],
   "source": [
    "#d_graph[-1]"
   ]
  },
  {
   "cell_type": "code",
   "execution_count": null,
   "id": "64c40061",
   "metadata": {
    "scrolled": true
   },
   "outputs": [],
   "source": [
    "unbesuchteKnoten = list(d_graph)\n",
    "unbesuchteKnoten.append(-2)\n",
    "tabelle = pd.DataFrame(unbesuchteKnoten, columns=['Knoten'])\n",
    "tabelle['Vorgaenger'] = -99\n",
    "tabelle['Gesamtdistanz'] = float('inf')\n",
    "startID = -1\n",
    "endID = -2\n",
    "#tabelle"
   ]
  },
  {
   "cell_type": "code",
   "execution_count": null,
   "id": "85c0eb5e",
   "metadata": {
    "scrolled": false
   },
   "outputs": [],
   "source": [
    "tabelle.loc[tabelle['Knoten'] == -1,'Gesamtdistanz'] = 0\n",
    "for nachbarn in d_graph[startID].items():\n",
    "    tabelle.loc[tabelle['Knoten'] == nachbarn[0],'Gesamtdistanz'] = nachbarn[1]\n",
    "    tabelle.loc[tabelle['Knoten'] == nachbarn[0],'Vorgaenger'] = -1\n",
    "unbesuchteKnoten.remove(-1)\n",
    "while (len(unbesuchteKnoten) != 0 and (-2 in unbesuchteKnoten)):\n",
    "    tempTabelle = tabelle[tabelle['Vorgaenger'] != -99]\n",
    "    tempTabelle.sort_values(by=['Gesamtdistanz'], inplace=True)\n",
    "    i =0\n",
    "    while(tempTabelle.iloc[i]['Knoten'] not in unbesuchteKnoten):\n",
    "        i = i+1\n",
    "    activePoint = tempTabelle.iloc[i]\n",
    "    if (activePoint['Knoten'] != -2):\n",
    "        for nachbarn in d_graph[activePoint['Knoten']].items():\n",
    "            if nachbarn[0] in unbesuchteKnoten:\n",
    "                if ((activePoint['Gesamtdistanz']+nachbarn[1]) < tabelle[tabelle['Knoten'] == nachbarn[0]]['Gesamtdistanz']).bool():\n",
    "                    tabelle.loc[tabelle['Knoten'] == nachbarn[0],'Gesamtdistanz'] = activePoint['Gesamtdistanz']+nachbarn[1]\n",
    "                    tabelle.loc[tabelle['Knoten'] == nachbarn[0],'Vorgaenger'] = activePoint['Knoten']\n",
    "            tabelle\n",
    "    unbesuchteKnoten.remove(activePoint['Knoten'])\n",
    "#tabelle"
   ]
  },
  {
   "cell_type": "code",
   "execution_count": null,
   "id": "6e677e7c",
   "metadata": {},
   "outputs": [],
   "source": [
    "weg = [-2]\n",
    "while ((tabelle[tabelle[\"Knoten\"] == weg[-1]][\"Vorgaenger\"]).item() != -99):\n",
    "    weg.append(tabelle[tabelle[\"Knoten\"] == weg[-1]][\"Vorgaenger\"].item())\n",
    "weg.reverse()\n",
    "weg.remove(-1)\n",
    "weg.remove(-2)\n",
    "weg"
   ]
  },
  {
   "cell_type": "code",
   "execution_count": null,
   "id": "d5c0db99",
   "metadata": {},
   "outputs": [],
   "source": [
    "wegkoordinaten = []\n",
    "for id in weg:\n",
    "    wegkoordinaten.append([koordinaten[id][0], koordinaten[id][1]])\n",
    "wegkoordinaten"
   ]
  },
  {
   "cell_type": "code",
   "execution_count": null,
   "id": "7e6e1672",
   "metadata": {},
   "outputs": [],
   "source": [
    "body = {\"coordinates\":wegkoordinaten}\n",
    "headers = {\n",
    "    'Accept': 'application/json, application/geo+json, application/gpx+xml, img/png; charset=utf-8',\n",
    "    'Authorization': '5b3ce3597851110001cf624837b0be5d89604065b03e13c82ba84c06',\n",
    "    'Content-Type': 'application/json; charset=utf-8'\n",
    "}\n",
    "call = requests.post('https://api.openrouteservice.org/v2/directions/driving-car/geojson', json=body, headers=headers)\n",
    "wegpoints = json.loads(call.text)[\"features\"][0][\"geometry\"]\n",
    "print(wegpoints)"
   ]
  },
  {
   "cell_type": "code",
   "execution_count": null,
   "id": "2972267c",
   "metadata": {},
   "outputs": [],
   "source": [
    "geom = [shape(i) for i in [wegpoints]]\n",
    "fahrtwegGDF = gp.GeoDataFrame({'geometry':geom})\n",
    "fahrtwegGDF"
   ]
  },
  {
   "cell_type": "code",
   "execution_count": null,
   "id": "4e7248bc",
   "metadata": {},
   "outputs": [],
   "source": [
    "plt.rcParams['figure.figsize'] = [12, 8]\n",
    "plt.rcParams['figure.dpi'] = 100 # 200 e.g. is really fine, but slower\n",
    "#worldMap = gp.read_file(gp.datasets.get_path(\"naturalearth_lowres\"))\n",
    "ax = subTracks.plot(ax=fahrtwegGDF.plot(), color='red', markersize=8)\n",
    "cx.add_basemap(ax, source=cx.providers.OpenStreetMap.Mapnik, crs=4326)"
   ]
  },
  {
   "cell_type": "code",
   "execution_count": null,
   "id": "35ba0e1b",
   "metadata": {},
   "outputs": [],
   "source": [
    "tmp_list = []\n",
    "for x in range(0,mytrack.shape[0],1):\n",
    "    tmp_list.append({\n",
    "      'id': mytrack.loc[x,'id'],\n",
    "      'time': mytrack.loc[x,'time'],\n",
    "      'phenomenons': mytrack.loc[x,'phenomenons'],\n",
    "      'geometry': mytrack.loc[x,'geometry']\n",
    "     })\n",
    "myTrack2 = gp.GeoDataFrame(tmp_list)\n",
    "myTrack2"
   ]
  },
  {
   "cell_type": "code",
   "execution_count": null,
   "id": "7b055236",
   "metadata": {},
   "outputs": [],
   "source": [
    "plt.rcParams['figure.figsize'] = [12, 8]\n",
    "plt.rcParams['figure.dpi'] = 100 # 200 e.g. is really fine, but slower\n",
    "#worldMap = gp.read_file(gp.datasets.get_path(\"naturalearth_lowres\"))\n",
    "ax = myTrack2.plot(ax=gdf.plot(), color='red', markersize=8)\n",
    "cx.add_basemap(ax, source=cx.providers.OpenStreetMap.Mapnik, crs=4326)"
   ]
  }
 ],
 "metadata": {
  "kernelspec": {
   "display_name": "Python 3 (ipykernel)",
   "language": "python",
   "name": "python3"
  },
  "language_info": {
   "codemirror_mode": {
    "name": "ipython",
    "version": 3
   },
   "file_extension": ".py",
   "mimetype": "text/x-python",
   "name": "python",
   "nbconvert_exporter": "python",
   "pygments_lexer": "ipython3",
   "version": "3.10.7"
  }
 },
 "nbformat": 4,
 "nbformat_minor": 5
}
